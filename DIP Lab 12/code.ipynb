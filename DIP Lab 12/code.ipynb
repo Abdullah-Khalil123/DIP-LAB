{
 "cells": [
  {
   "cell_type": "code",
   "execution_count": 26,
   "metadata": {},
   "outputs": [],
   "source": [
    "import cv2\n",
    "import numpy as np\n",
    "from sklearn.neighbors import KNeighborsClassifier"
   ]
  },
  {
   "cell_type": "code",
   "execution_count": 30,
   "metadata": {},
   "outputs": [],
   "source": [
    "def prepare_dataset(image_files, labels):\n",
    "    data, targets = [], []\n",
    "    for path, label in zip(image_files, labels):\n",
    "        image = cv2.imread(path, cv2.IMREAD_GRAYSCALE)\n",
    "        resized_image = cv2.resize(image, (10, 15))\n",
    "        data.append(resized_image.flatten())\n",
    "        targets.append(label)\n",
    "    return np.array(data), np.array(targets)\n",
    "\n",
    "\n",
    "def classify_with_template(test_image, templates):\n",
    "    lowest_score, predicted_label = float(\"inf\"), None\n",
    "    for label, template in templates.items():\n",
    "        score = np.sum((test_image - template) ** 2)\n",
    "        if score < lowest_score:\n",
    "            lowest_score, predicted_label = score, label\n",
    "    return predicted_label"
   ]
  },
  {
   "cell_type": "code",
   "execution_count": 36,
   "metadata": {},
   "outputs": [
    {
     "name": "stdout",
     "output_type": "stream",
     "text": [
      "KNN Predicted Label: 6\n",
      "Template Matching Predicted Label: 6\n"
     ]
    }
   ],
   "source": [
    "image_files = [\n",
    "    \"images/0.png\",\n",
    "    \"images/1.png\",\n",
    "    \"images/2.png\",\n",
    "    \"images/3.png\",\n",
    "    \"images/4.png\",\n",
    "    \"images/5.png\",\n",
    "    \"images/6.png\",\n",
    "    \"images/7.png\",\n",
    "    \"images/8.png\",\n",
    "    \"images/9.png\",\n",
    "]\n",
    "labels = [0, 1, 2, 3, 4, 5, 6, 7, 8, 9]\n",
    "\n",
    "features, targets = prepare_dataset(image_files, labels)\n",
    "\n",
    "knn_model = KNeighborsClassifier(n_neighbors=1)\n",
    "knn_model.fit(features, targets)\n",
    "\n",
    "test_image_path = \"images/test.png\"\n",
    "test_image = cv2.imread(test_image_path, cv2.IMREAD_GRAYSCALE)\n",
    "resized_test_image = cv2.resize(test_image, (10, 15)).flatten().reshape(1, -1)\n",
    "\n",
    "knn_result = knn_model.predict(resized_test_image)[0]\n",
    "print(f\"KNN Predicted Label: {knn_result}\")\n",
    "\n",
    "template_dictionary = {}\n",
    "for label in np.unique(labels):\n",
    "    template_dictionary[label] = features[targets == label].mean(axis=0).reshape(15, 10)\n",
    "\n",
    "test_image_2d = resized_test_image.reshape(15, 10)\n",
    "template_result = classify_with_template(test_image_2d, template_dictionary)\n",
    "print(f\"Template Matching Predicted Label: {template_result}\")"
   ]
  },
  {
   "cell_type": "code",
   "execution_count": 38,
   "metadata": {},
   "outputs": [
    {
     "name": "stdout",
     "output_type": "stream",
     "text": [
      "Prediction: 2\n",
      "Matching Prediction: 2\n"
     ]
    }
   ],
   "source": [
    "import cv2\n",
    "import numpy as np\n",
    "from sklearn.neighbors import KNeighborsClassifier\n",
    "\n",
    "def load_data(images, labels):\n",
    "    data, targets = [], []\n",
    "    for file, label in zip(images, labels):\n",
    "        img = cv2.imread(file, cv2.IMREAD_GRAYSCALE)\n",
    "        resized = cv2.resize(img, (10, 15))\n",
    "        data.append(resized.flatten())\n",
    "        targets.append(label)\n",
    "    return np.array(data), np.array(targets)\n",
    "\n",
    "def match_template(image, templates):\n",
    "    min_score, result = float(\"inf\"), None\n",
    "    for label, template in templates.items():\n",
    "        score = np.sum((image - template) ** 2)\n",
    "        if score < min_score:\n",
    "            min_score, result = score, label\n",
    "    return result\n",
    "\n",
    "images = [\n",
    "    \"images/0.png\", \"images/1.png\", \"images/2.png\", \"images/3.png\", \"images/4.png\",\n",
    "    \"images/5.png\", \"images/6.png\", \"images/7.png\", \"images/8.png\", \"images/9.png\",\n",
    "]\n",
    "labels = [0, 1, 2, 3, 4, 5, 6, 7, 8, 9]\n",
    "\n",
    "features, targets = load_data(images, labels)\n",
    "\n",
    "model = KNeighborsClassifier(n_neighbors=1)\n",
    "model.fit(features, targets)\n",
    "\n",
    "test_path = \"images/test.png\"\n",
    "test_img = cv2.imread(test_path, cv2.IMREAD_GRAYSCALE)\n",
    "test_resized = cv2.resize(test_img, (10, 15)).flatten().reshape(1, -1)\n",
    "\n",
    "knn_prediction = model.predict(test_resized)[0]\n",
    "print(f\"Prediction: {knn_prediction}\")\n",
    "\n",
    "templates = {}\n",
    "for lbl in np.unique(labels):\n",
    "    templates[lbl] = features[targets == lbl].mean(axis=0).reshape(15, 10)\n",
    "\n",
    "test_2d = test_resized.reshape(15, 10)\n",
    "template_prediction = match_template(test_2d, templates)\n",
    "print(f\"Matching Prediction: {template_prediction}\")\n"
   ]
  },
  {
   "cell_type": "code",
   "execution_count": 40,
   "metadata": {},
   "outputs": [
    {
     "name": "stdout",
     "output_type": "stream",
     "text": [
      "KNN Result: 0\n",
      "Template Matching Result: 0\n"
     ]
    }
   ],
   "source": [
    "import cv2\n",
    "import numpy as np\n",
    "from sklearn.neighbors import KNeighborsClassifier\n",
    "\n",
    "def prepare_data(img_paths, lbls):\n",
    "    dataset, labels = [], []\n",
    "    for path, lbl in zip(img_paths, lbls):\n",
    "        image = cv2.imread(path, cv2.IMREAD_GRAYSCALE)\n",
    "        resized_image = cv2.resize(image, (10, 15))\n",
    "        dataset.append(resized_image.flatten())\n",
    "        labels.append(lbl)\n",
    "    return np.array(dataset), np.array(labels)\n",
    "\n",
    "def find_best_match(img, reference_templates):\n",
    "    lowest_difference, match = float(\"inf\"), None\n",
    "    for lbl, template in reference_templates.items():\n",
    "        difference = np.sum((img - template) ** 2)\n",
    "        if difference < lowest_difference:\n",
    "            lowest_difference, match = difference, lbl\n",
    "    return match\n",
    "\n",
    "image_paths = [\n",
    "    \"images/0.png\", \"images/1.png\", \"images/2.png\", \"images/3.png\", \"images/4.png\",\n",
    "    \"images/5.png\", \"images/6.png\", \"images/7.png\", \"images/8.png\", \"images/9.png\",\n",
    "]\n",
    "image_labels = [0, 1, 2, 3, 4, 5, 6, 7, 8, 9]\n",
    "\n",
    "features, labels = prepare_data(image_paths, image_labels)\n",
    "\n",
    "knn_model = KNeighborsClassifier(n_neighbors=1)\n",
    "knn_model.fit(features, labels)\n",
    "\n",
    "test_image_file = \"images/test.png\"\n",
    "test_image = cv2.imread(test_image_file, cv2.IMREAD_GRAYSCALE)\n",
    "test_image_resized = cv2.resize(test_image, (10, 15)).flatten().reshape(1, -1)\n",
    "\n",
    "knn_result = knn_model.predict(test_image_resized)[0]\n",
    "print(f\"KNN Result: {knn_result}\")\n",
    "\n",
    "reference_templates = {}\n",
    "for label in np.unique(image_labels):\n",
    "    reference_templates[label] = features[labels == label].mean(axis=0).reshape(15, 10)\n",
    "\n",
    "reshaped_test_image = test_image_resized.reshape(15, 10)\n",
    "template_result = find_best_match(reshaped_test_image, reference_templates)\n",
    "print(f\"Template Matching Result: {template_result}\")\n"
   ]
  },
  {
   "cell_type": "code",
   "execution_count": null,
   "metadata": {},
   "outputs": [],
   "source": []
  }
 ],
 "metadata": {
  "kernelspec": {
   "display_name": "myenv",
   "language": "python",
   "name": "python3"
  },
  "language_info": {
   "codemirror_mode": {
    "name": "ipython",
    "version": 3
   },
   "file_extension": ".py",
   "mimetype": "text/x-python",
   "name": "python",
   "nbconvert_exporter": "python",
   "pygments_lexer": "ipython3",
   "version": "3.12.8"
  }
 },
 "nbformat": 4,
 "nbformat_minor": 2
}
