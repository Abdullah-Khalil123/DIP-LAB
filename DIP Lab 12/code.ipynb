{
 "cells": [
  {
   "cell_type": "code",
   "execution_count": null,
   "metadata": {},
   "outputs": [
    {
     "ename": "",
     "evalue": "",
     "output_type": "error",
     "traceback": [
      "\u001b[1;31mRunning cells with 'myenv (Python 3.12.8)' requires the ipykernel package.\n",
      "\u001b[1;31mRun the following command to install 'ipykernel' into the Python environment. \n",
      "\u001b[1;31mCommand: '\"d:/Projects/DIP-LAB/DIP Lab 12/myenv/Scripts/python.exe\" -m pip install ipykernel -U --force-reinstall'"
     ]
    }
   ],
   "source": [
    "import cv2\n",
    "import numpy as np\n",
    "from sklearn.neighbors import KNeighborsClassifier"
   ]
  },
  {
   "cell_type": "code",
   "execution_count": null,
   "metadata": {},
   "outputs": [],
   "source": [
    "def load_dataset(image_paths, labels):\n",
    "    features, target = [], []\n",
    "    for img_path, label in zip(image_paths, labels):\n",
    "        img = cv2.imread(img_path, cv2.IMREAD_GRAYSCALE)\n",
    "        img_resized = cv2.resize(img, (10, 15))  \n",
    "        features.append(img_resized.flatten()) \n",
    "        target.append(label)\n",
    "    return np.array(features), np.array(target)\n",
    "\n",
    "def template_matching(test_image, templates):\n",
    "    best_match, best_score = None, float('inf')\n",
    "    for label, template in templates.items():\n",
    "        diff = np.sum((test_image - template) ** 2) \n",
    "        if diff < best_score:\n",
    "            best_score, best_match = diff, label\n",
    "    return best_match\n"
   ]
  },
  {
   "cell_type": "code",
   "execution_count": null,
   "metadata": {},
   "outputs": [],
   "source": [
    "def main():\n",
    "    image_paths = [\n",
    "        \"path/to/digit_0_sample1.png\", \"path/to/digit_1_sample1.png\", \"path/to/digit_2_sample1.png\", \n",
    "    ]\n",
    "    labels = [0, 1, 2]  \n",
    "\n",
    "    features, target = load_dataset(image_paths, labels)\n",
    "\n",
    "    knn = KNeighborsClassifier(n_neighbors=3)\n",
    "    knn.fit(features, target)\n",
    "\n",
    "    test_image_path = \"path/to/test_digit.png\"\n",
    "    test_image = cv2.imread(test_image_path, cv2.IMREAD_GRAYSCALE)\n",
    "    test_image_resized = cv2.resize(test_image, (10, 15)).flatten().reshape(1, -1)\n",
    "\n",
    "    knn_prediction = knn.predict(test_image_resized)[0]\n",
    "    print(f\"KNN Prediction: {knn_prediction}\")\n",
    "\n",
    "    templates = {}\n",
    "    for label in set(labels):\n",
    "        templates[label] = features[target == label].mean(axis=0).reshape(15, 10)  \n",
    "\n",
    "    test_image_resized_2d = test_image_resized.reshape(15, 10)\n",
    "    template_prediction = template_matching(test_image_resized_2d, templates)\n",
    "    print(f\"Template Matching Prediction: {template_prediction}\")\n",
    "\n",
    "if __name__ == \"__main__\":\n",
    "    main()\n"
   ]
  }
 ],
 "metadata": {
  "kernelspec": {
   "display_name": "myenv",
   "language": "python",
   "name": "python3"
  },
  "language_info": {
   "name": "python",
   "version": "3.12.8"
  }
 },
 "nbformat": 4,
 "nbformat_minor": 2
}
