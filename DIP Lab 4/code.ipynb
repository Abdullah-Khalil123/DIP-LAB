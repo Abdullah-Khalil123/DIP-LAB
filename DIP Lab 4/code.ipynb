{
 "cells": [
  {
   "cell_type": "code",
   "execution_count": 1,
   "metadata": {},
   "outputs": [],
   "source": [
    "import cv2\n",
    "import numpy as np"
   ]
  },
  {
   "cell_type": "code",
   "execution_count": 2,
   "metadata": {},
   "outputs": [],
   "source": [
    "def printImage(image):\n",
    "    cv2.imshow(\"Image\", image)\n",
    "    cv2.waitKey(0)\n",
    "    cv2.destroyAllWindows()"
   ]
  },
  {
   "cell_type": "code",
   "execution_count": 3,
   "metadata": {},
   "outputs": [],
   "source": [
    "CJ = cv2.imread(\"images/cj.webp\")\n",
    "CJ = cv2.resize(CJ, (800, 600))\n",
    "\n",
    "UNI = cv2.imread(\"images/buic.jpg\")\n",
    "UNI = cv2.resize(UNI, (800, 600))"
   ]
  },
  {
   "cell_type": "markdown",
   "metadata": {},
   "source": [
    "# Task 1\n"
   ]
  },
  {
   "cell_type": "code",
   "execution_count": 4,
   "metadata": {},
   "outputs": [],
   "source": [
    "# Increase Brightness\n",
    "incBrightness = cv2.add(CJ, (50, 50, 50))\n",
    "printImage(incBrightness)\n",
    "\n",
    "# Contrast\n",
    "contrastImage = cv2.convertScaleAbs(UNI, alpha=1.5, beta=0)\n",
    "printImage(contrastImage)\n",
    "\n",
    "# Gamma\n",
    "gamma = 4\n",
    "invGamma = 1 / gamma\n",
    "gammaCorrect = np.array(255 * (CJ / 255) ** invGamma, dtype=\"uint8\")\n",
    "printImage(gammaCorrect)\n",
    "\n",
    "# Invert\n",
    "invertedImage = cv2.bitwise_not(CJ)\n",
    "printImage(invertedImage)"
   ]
  },
  {
   "cell_type": "code",
   "execution_count": 5,
   "metadata": {},
   "outputs": [],
   "source": [
    "test = CJ / 255"
   ]
  },
  {
   "cell_type": "markdown",
   "metadata": {},
   "source": [
    "# Task 2\n"
   ]
  },
  {
   "cell_type": "markdown",
   "metadata": {},
   "source": [
    "# Task 3\n"
   ]
  },
  {
   "cell_type": "code",
   "execution_count": 6,
   "metadata": {},
   "outputs": [
    {
     "data": {
      "text/plain": [
       "(array([  0, 100,   0]), array([ 60, 255,  60]))"
      ]
     },
     "execution_count": 6,
     "metadata": {},
     "output_type": "execute_result"
    }
   ],
   "source": [
    "lowerRange = np.array([0, 100, 0])\n",
    "upperRange = np.array([60, 255, 60])\n",
    "\n",
    "lowerRange, upperRange"
   ]
  },
  {
   "cell_type": "code",
   "execution_count": 7,
   "metadata": {},
   "outputs": [],
   "source": [
    "CJMask = cv2.inRange(CJ, lowerRange, upperRange)"
   ]
  },
  {
   "cell_type": "code",
   "execution_count": 8,
   "metadata": {},
   "outputs": [],
   "source": [
    "cv2.imshow(\"frame\", CJMask)\n",
    "cv2.waitKey(0)\n",
    "cv2.destroyAllWindows()"
   ]
  },
  {
   "cell_type": "code",
   "execution_count": 9,
   "metadata": {},
   "outputs": [],
   "source": [
    "CJ[CJMask != 0] = [0, 0, 0]\n",
    "cv2.imshow(\"ra\", CJ)\n",
    "cv2.waitKey(0)\n",
    "cv2.destroyAllWindows()"
   ]
  },
  {
   "cell_type": "code",
   "execution_count": 10,
   "metadata": {},
   "outputs": [],
   "source": [
    "UNI[CJMask == 0] = [0, 0, 0]\n",
    "cv2.imshow(\"UNI\", UNI)\n",
    "cv2.waitKey(0)\n",
    "cv2.destroyAllWindows()"
   ]
  },
  {
   "cell_type": "code",
   "execution_count": 12,
   "metadata": {},
   "outputs": [],
   "source": [
    "joinedImage = UNI + CJ\n",
    "cv2.imshow(\"Green Screen\", joinedImage)\n",
    "cv2.waitKey(0)\n",
    "cv2.destroyAllWindows()"
   ]
  },
  {
   "cell_type": "code",
   "execution_count": 13,
   "metadata": {},
   "outputs": [
    {
     "name": "stdout",
     "output_type": "stream",
     "text": [
      "Frame 1 shape: (573, 1015, 3)\n",
      "Frame 2 shape: (574, 1015, 3)\n"
     ]
    }
   ],
   "source": [
    "import cv2\n",
    "\n",
    "# Load the two frames\n",
    "frame1 = cv2.imread(\"images/frame1.png\")\n",
    "frame2 = cv2.imread(\"images/frame2.png\")\n",
    "\n",
    "# Check shapes\n",
    "print(\"Frame 1 shape:\", frame1.shape)\n",
    "print(\"Frame 2 shape:\", frame2.shape)\n",
    "\n",
    "# Resize frame2 if needed\n",
    "if frame1.shape != frame2.shape:\n",
    "    frame2 = cv2.resize(frame2, (frame1.shape[1], frame1.shape[0]))\n",
    "\n",
    "# Convert to grayscale\n",
    "gray1 = cv2.cvtColor(frame1, cv2.COLOR_BGR2GRAY)\n",
    "gray2 = cv2.cvtColor(frame2, cv2.COLOR_BGR2GRAY)\n",
    "\n",
    "# Subtract the frames\n",
    "diff = cv2.absdiff(gray1, gray2)\n",
    "\n",
    "# Apply thresholding\n",
    "_, thresh = cv2.threshold(diff, 30, 255, cv2.THRESH_BINARY)\n",
    "\n",
    "# Morphological operations\n",
    "kernel = cv2.getStructuringElement(cv2.MORPH_RECT, (5, 5))\n",
    "morph = cv2.morphologyEx(thresh, cv2.MORPH_CLOSE, kernel)\n",
    "\n",
    "# Find contours\n",
    "contours, _ = cv2.findContours(morph, cv2.RETR_EXTERNAL, cv2.CHAIN_APPROX_SIMPLE)\n",
    "\n",
    "# Analyze contours to determine lanes with movement\n",
    "for contour in contours:\n",
    "    area = cv2.contourArea(contour)\n",
    "    if area > 500:  # Adjust this threshold based on the expected size of vehicles\n",
    "        x, y, w, h = cv2.boundingRect(contour)\n",
    "        cv2.rectangle(frame1, (x, y), (x + w, y + h), (0, 255, 0), 2)\n",
    "\n",
    "# Show the result\n",
    "cv2.imshow(\"Detected Vehicles\", frame1)\n",
    "cv2.waitKey(0)\n",
    "cv2.destroyAllWindows()"
   ]
  },
  {
   "cell_type": "code",
   "execution_count": 17,
   "metadata": {},
   "outputs": [],
   "source": []
  },
  {
   "cell_type": "code",
   "execution_count": null,
   "metadata": {},
   "outputs": [],
   "source": []
  }
 ],
 "metadata": {
  "kernelspec": {
   "display_name": "myenv",
   "language": "python",
   "name": "python3"
  },
  "language_info": {
   "codemirror_mode": {
    "name": "ipython",
    "version": 3
   },
   "file_extension": ".py",
   "mimetype": "text/x-python",
   "name": "python",
   "nbconvert_exporter": "python",
   "pygments_lexer": "ipython3",
   "version": "3.12.7"
  }
 },
 "nbformat": 4,
 "nbformat_minor": 2
}
